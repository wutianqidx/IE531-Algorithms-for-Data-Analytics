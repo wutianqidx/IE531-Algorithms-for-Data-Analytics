{
 "cells": [
  {
   "cell_type": "code",
   "execution_count": 15,
   "metadata": {
    "collapsed": true
   },
   "outputs": [],
   "source": [
    "import numpy as np"
   ]
  },
  {
   "cell_type": "code",
   "execution_count": 16,
   "metadata": {
    "collapsed": true
   },
   "outputs": [],
   "source": [
    "A = np.array([[1, 2], [3, 4]])\n",
    "n = 2\n",
    "k = 14\n",
    "\n",
    "U = np.zeros((n, n))\n",
    "sigma = np.zeros(n)\n",
    "V_t = np.zeros((n, n))"
   ]
  },
  {
   "cell_type": "code",
   "execution_count": 17,
   "metadata": {
    "collapsed": true
   },
   "outputs": [],
   "source": [
    "def get_svd(A):\n",
    "    B = np.transpose(A).dot(A)\n",
    "    B_power = B.copy()\n",
    "\n",
    "    for j in range(k):\n",
    "        B_power = np.matmul(B_power, B)\n",
    "    \n",
    "    v1 = B_power[:, 0] / np.linalg.norm(B_power[:, 0])\n",
    "    s1 = np.sqrt((np.dot(B, v1) / v1)[0])\n",
    "    u1 = np.dot(A, v1) / s1\n",
    "    \n",
    "    return v1, s1, u1"
   ]
  },
  {
   "cell_type": "code",
   "execution_count": 18,
   "metadata": {
    "collapsed": true
   },
   "outputs": [],
   "source": [
    "v1, s1, u1 = get_svd(A)\n",
    "V_t[0, :] = v1\n",
    "U[0, :] = u1\n",
    "sigma[0] = s1\n",
    "\n",
    "large_contrib = s1 * np.outer(u1, v1)\n",
    "A2 = A - large_contrib\n",
    "\n",
    "v2, s2, u2 = get_svd(A2)\n",
    "V_t[1, :] = v2\n",
    "U[1, :] = u2\n",
    "sigma[1] = s2"
   ]
  },
  {
   "cell_type": "code",
   "execution_count": 19,
   "metadata": {},
   "outputs": [
    {
     "name": "stdout",
     "output_type": "stream",
     "text": [
      "U: \n",
      " [[ 0.40861658  0.9268237 ]\n",
      " [-0.98949853  0.14454294]] \n",
      "sigma: \n",
      " [ 5.39444409  0.37980901] \n",
      "V: \n",
      " [[ 0.59118004  0.80653962]\n",
      " [ 0.80653962 -0.59118004]]\n"
     ]
    }
   ],
   "source": [
    "print('U: \\n', U, '\\nsigma: \\n', sigma, '\\nV: \\n', V_t)"
   ]
  },
  {
   "cell_type": "code",
   "execution_count": null,
   "metadata": {
    "collapsed": true
   },
   "outputs": [],
   "source": []
  },
  {
   "cell_type": "code",
   "execution_count": null,
   "metadata": {
    "collapsed": true
   },
   "outputs": [],
   "source": []
  }
 ],
 "metadata": {
  "kernelspec": {
   "display_name": "Python 3",
   "language": "python",
   "name": "python3"
  },
  "language_info": {
   "codemirror_mode": {
    "name": "ipython",
    "version": 3
   },
   "file_extension": ".py",
   "mimetype": "text/x-python",
   "name": "python",
   "nbconvert_exporter": "python",
   "pygments_lexer": "ipython3",
   "version": "3.6.3"
  }
 },
 "nbformat": 4,
 "nbformat_minor": 2
}
